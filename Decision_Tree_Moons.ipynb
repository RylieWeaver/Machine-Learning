{
  "nbformat": 4,
  "nbformat_minor": 0,
  "metadata": {
    "colab": {
      "provenance": [],
      "authorship_tag": "ABX9TyNhwtxMuNiBovyoROyf42Mk",
      "include_colab_link": true
    },
    "kernelspec": {
      "name": "python3",
      "display_name": "Python 3"
    },
    "language_info": {
      "name": "python"
    }
  },
  "cells": [
    {
      "cell_type": "markdown",
      "metadata": {
        "id": "view-in-github",
        "colab_type": "text"
      },
      "source": [
        "<a href=\"https://colab.research.google.com/github/RylieWeaver9/Machine-Learning/blob/main/Decision_Tree_Moons.ipynb\" target=\"_parent\"><img src=\"https://colab.research.google.com/assets/colab-badge.svg\" alt=\"Open In Colab\"/></a>"
      ]
    },
    {
      "cell_type": "code",
      "execution_count": 18,
      "metadata": {
        "id": "uAzr7on83b8e"
      },
      "outputs": [],
      "source": [
        "from sklearn.datasets import make_moons\n",
        "from sklearn.model_selection import train_test_split\n",
        "from sklearn.model_selection import GridSearchCV\n",
        "from sklearn.tree import DecisionTreeClassifier\n",
        "from sklearn.metrics import accuracy_score\n",
        "import matplotlib.pyplot as plt"
      ]
    },
    {
      "cell_type": "code",
      "source": [
        "# Initialize arrays\n",
        "X = []\n",
        "Y = []\n",
        "\n",
        "# Run loop of accuracy vs size of dataset\n",
        "for i in range(1,6):\n",
        "  n_samples = 10**i\n",
        "\n",
        "  # Make dataset\n",
        "  X_moons, y_moons = make_moons(n_samples, noise=0.4, random_state=42)\n",
        "  X_train, X_test, y_train, y_test = train_test_split(X_moons, y_moons, test_size=0.2, random_state=42)\n",
        "  \n",
        "  # Find and set to best hyperparameters\n",
        "  params = {'max_leaf_nodes': list(range(2, 100)), 'max_depth': list(range(1, 7)), 'min_samples_split': [2, 3, 4]}\n",
        "  grid_search_cv = GridSearchCV(DecisionTreeClassifier(random_state=42), params, cv=3)\n",
        "  grid_search_cv.fit(X_train, y_train)\n",
        "  grid_search_cv.best_estimator_\n",
        "  print(grid_search_cv.best_estimator_)\n",
        "\n",
        "  # Make prediction\n",
        "  y_pred = grid_search_cv.predict(X_test)\n",
        "  accuracy = accuracy_score(y_test, y_pred)\n",
        "  print(accuracy)\n",
        "\n",
        "  # Append to array to plot\n",
        "  X.append(i)\n",
        "  Y.append(accuracy)"
      ],
      "metadata": {
        "colab": {
          "base_uri": "https://localhost:8080/"
        },
        "id": "hjv2MhgpB0YU",
        "outputId": "ff98b666-5a1a-4ab1-cbc3-a72646a2dc3b"
      },
      "execution_count": 21,
      "outputs": [
        {
          "output_type": "stream",
          "name": "stdout",
          "text": [
            "DecisionTreeClassifier(max_depth=1, max_leaf_nodes=2, random_state=42)\n",
            "1.0\n",
            "DecisionTreeClassifier(max_depth=3, max_leaf_nodes=4, random_state=42)\n",
            "0.9\n",
            "DecisionTreeClassifier(max_depth=2, max_leaf_nodes=4, random_state=42)\n",
            "0.855\n",
            "DecisionTreeClassifier(max_depth=6, max_leaf_nodes=17, random_state=42)\n",
            "0.8595\n",
            "DecisionTreeClassifier(max_depth=6, max_leaf_nodes=33, random_state=42)\n",
            "0.8574\n"
          ]
        }
      ]
    },
    {
      "cell_type": "code",
      "source": [
        "# Plot\n",
        "plt.figure(figsize = (9,6))\n",
        "# plt.ylim(0,1)\n",
        "plt.scatter(X,Y, c='r')\n",
        "plt.plot(X,Y)\n",
        "\n",
        "# Label plot\n",
        "plt.title('Number of Samples vs Accuracy Plot')\n",
        "plt.xlabel('log_10(Number of Samples)')\n",
        "plt.ylabel('Accuracy')\n",
        "\n",
        "# Show\n",
        "plt.show()"
      ],
      "metadata": {
        "colab": {
          "base_uri": "https://localhost:8080/",
          "height": 405
        },
        "id": "AnMiAchHByr2",
        "outputId": "cfee0667-827d-4a67-8597-b94c6d807729"
      },
      "execution_count": 22,
      "outputs": [
        {
          "output_type": "display_data",
          "data": {
            "text/plain": [
              "<Figure size 648x432 with 1 Axes>"
            ],
            "image/png": "[encoded data removed]"
          },
          "metadata": {
            "needs_background": "light"
          }
        }
      ]
    },
    {
      "cell_type": "markdown",
      "source": [
        "## The accuracy seems to decrease and plateau around 0.86 as the number of samples increases."
      ],
      "metadata": {
        "id": "tr9gyOSoHKov"
      }
    }
  ]
}