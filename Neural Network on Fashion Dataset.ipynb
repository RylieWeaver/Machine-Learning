{
  "nbformat": 4,
  "nbformat_minor": 0,
  "metadata": {
    "colab": {
      "provenance": [],
      "authorship_tag": "ABX9TyNlRH9okQbjIkoZcXrfBMcC",
      "include_colab_link": true
    },
    "kernelspec": {
      "name": "python3",
      "display_name": "Python 3"
    },
    "language_info": {
      "name": "python"
    }
  },
  "cells": [
    {
      "cell_type": "markdown",
      "metadata": {
        "id": "view-in-github",
        "colab_type": "text"
      },
      "source": [
        "<a href=\"https://colab.research.google.com/github/RylieWeaver9/Machine-Learning/blob/main/Neural%20Network%20on%20Fashion%20Dataset.ipynb\" target=\"_parent\"><img src=\"https://colab.research.google.com/assets/colab-badge.svg\" alt=\"Open In Colab\"/></a>"
      ]
    },
    {
      "cell_type": "markdown",
      "source": [
        "# **Part 3 (Exercise 10 w/ Fashion Dataset)**"
      ],
      "metadata": {
        "id": "FSV1Zu8758TF"
      }
    },
    {
      "cell_type": "markdown",
      "source": [
        "### Import necessary libararies"
      ],
      "metadata": {
        "id": "Zjf2PUOj6egq"
      }
    },
    {
      "cell_type": "code",
      "source": [
        "import sys\n",
        "import sklearn\n",
        "import tensorflow as tf\n",
        "import matplotlib.pyplot as plt\n",
        "import numpy as np\n",
        "from sklearn.linear_model import Perceptron\n",
        "from matplotlib.colors import ListedColormap"
      ],
      "metadata": {
        "id": "GOQUMt0E54Z9"
      },
      "execution_count": null,
      "outputs": []
    },
    {
      "cell_type": "markdown",
      "source": [
        "### Import path"
      ],
      "metadata": {
        "id": "PAz2TdM06kJ-"
      }
    },
    {
      "cell_type": "code",
      "source": [
        "from pathlib import Path\n",
        "\n",
        "IMAGES_PATH = Path() / \"images\" / \"ann\"\n",
        "IMAGES_PATH.mkdir(parents=True, exist_ok=True)\n",
        "\n",
        "def save_fig(fig_id, tight_layout=True, fig_extension=\"png\", resolution=300):\n",
        "    path = IMAGES_PATH / f\"{fig_id}.{fig_extension}\"\n",
        "    if tight_layout:\n",
        "        plt.tight_layout()\n",
        "    plt.savefig(path, format=fig_extension, dpi=resolution)"
      ],
      "metadata": {
        "id": "mEay57lp8hPn"
      },
      "execution_count": null,
      "outputs": []
    },
    {
      "cell_type": "markdown",
      "source": [
        "### Load in data and check shape"
      ],
      "metadata": {
        "id": "W-YVmgcx8QPf"
      }
    },
    {
      "cell_type": "code",
      "execution_count": null,
      "metadata": {
        "id": "S369ALC747TQ"
      },
      "outputs": [],
      "source": [
        "(X_train_full, y_train_full), (X_test, y_test) = tf.keras.datasets.fashion_mnist.load_data()"
      ]
    },
    {
      "cell_type": "code",
      "source": [
        "X_train_full.shape"
      ],
      "metadata": {
        "colab": {
          "base_uri": "https://localhost:8080/"
        },
        "id": "fe-iXTzX49nN",
        "outputId": "4472167c-1ccf-4268-96cc-4ed62b533ec1"
      },
      "execution_count": null,
      "outputs": [
        {
          "output_type": "execute_result",
          "data": {
            "text/plain": [
              "(60000, 28, 28)"
            ]
          },
          "metadata": {},
          "execution_count": 7
        }
      ]
    },
    {
      "cell_type": "markdown",
      "source": [
        "### Separate out validation set"
      ],
      "metadata": {
        "id": "CldZTbtf8k19"
      }
    },
    {
      "cell_type": "code",
      "source": [
        "X_train_full.dtype"
      ],
      "metadata": {
        "colab": {
          "base_uri": "https://localhost:8080/"
        },
        "id": "RBqoRerD5NBl",
        "outputId": "53437277-a9cc-4c1b-e907-09077854ef6a"
      },
      "execution_count": null,
      "outputs": [
        {
          "output_type": "execute_result",
          "data": {
            "text/plain": [
              "dtype('uint8')"
            ]
          },
          "metadata": {},
          "execution_count": 11
        }
      ]
    },
    {
      "cell_type": "code",
      "source": [
        "X_valid, X_train = X_train_full[:5000] / 255., X_train_full[5000:] / 255.\n",
        "y_valid, y_train = y_train_full[:5000], y_train_full[5000:]\n",
        "X_test = X_test / 255."
      ],
      "metadata": {
        "id": "x3x7dSRu5PC2"
      },
      "execution_count": null,
      "outputs": []
    },
    {
      "cell_type": "markdown",
      "source": [
        "### Plot out an example image from the training dataset"
      ],
      "metadata": {
        "id": "fYWoSk_R8r1-"
      }
    },
    {
      "cell_type": "code",
      "source": [
        "# Let's plot an image using Matplotlib's imshow() function, with a 'binary' color map:\n",
        "\n",
        "plt.imshow(X_train[0], cmap=\"binary\")\n",
        "plt.axis('off')\n",
        "plt.show()"
      ],
      "metadata": {
        "colab": {
          "base_uri": "https://localhost:8080/",
          "height": 406
        },
        "id": "faLbvdrc5PrU",
        "outputId": "da37de18-bb95-46de-8cf7-97ef51cdaf1c"
      },
      "execution_count": null,
      "outputs": [
        {
          "output_type": "display_data",
          "data": {
            "text/plain": [
              "<Figure size 640x480 with 1 Axes>"
            ],
            "image/png": "[encoded data removed]"
          },
          "metadata": {}
        }
      ]
    },
    {
      "cell_type": "markdown",
      "source": [
        "### Check some shapes and etc..."
      ],
      "metadata": {
        "id": "EA6qn3KE9N89"
      }
    },
    {
      "cell_type": "code",
      "source": [
        "y_train"
      ],
      "metadata": {
        "colab": {
          "base_uri": "https://localhost:8080/"
        },
        "id": "gPDgH6Pm5RVO",
        "outputId": "399f31b1-fc97-4a3b-ad16-f0a32091b1e3"
      },
      "execution_count": null,
      "outputs": [
        {
          "output_type": "execute_result",
          "data": {
            "text/plain": [
              "array([4, 0, 7, ..., 3, 0, 5], dtype=uint8)"
            ]
          },
          "metadata": {},
          "execution_count": 18
        }
      ]
    },
    {
      "cell_type": "code",
      "source": [
        "X_valid.shape"
      ],
      "metadata": {
        "colab": {
          "base_uri": "https://localhost:8080/"
        },
        "id": "B07qAim05Sha",
        "outputId": "2355b386-cf13-4f37-dee4-7a780751650c"
      },
      "execution_count": null,
      "outputs": [
        {
          "output_type": "execute_result",
          "data": {
            "text/plain": [
              "(5000, 28, 28)"
            ]
          },
          "metadata": {},
          "execution_count": 19
        }
      ]
    },
    {
      "cell_type": "code",
      "source": [
        "X_test.shape"
      ],
      "metadata": {
        "colab": {
          "base_uri": "https://localhost:8080/"
        },
        "id": "JHjrHcIz5TvF",
        "outputId": "0febd7b0-c93c-46dc-d4b1-a86a3f7c62bc"
      },
      "execution_count": null,
      "outputs": [
        {
          "output_type": "execute_result",
          "data": {
            "text/plain": [
              "(10000, 28, 28)"
            ]
          },
          "metadata": {},
          "execution_count": 20
        }
      ]
    },
    {
      "cell_type": "markdown",
      "source": [
        "### Plot a bunch of images"
      ],
      "metadata": {
        "id": "NQLSKC6k9aAU"
      }
    },
    {
      "cell_type": "code",
      "source": [
        "n_rows = 4\n",
        "n_cols = 10\n",
        "plt.figure(figsize=(n_cols * 1.2, n_rows * 1.2))\n",
        "for row in range(n_rows):\n",
        "    for col in range(n_cols):\n",
        "        index = n_cols * row + col\n",
        "        plt.subplot(n_rows, n_cols, index + 1)\n",
        "        plt.imshow(X_train[index], cmap=\"binary\", interpolation=\"nearest\")\n",
        "        plt.axis('off')\n",
        "        plt.title(y_train[index])\n",
        "plt.subplots_adjust(wspace=0.2, hspace=0.5)\n",
        "plt.show()"
      ],
      "metadata": {
        "colab": {
          "base_uri": "https://localhost:8080/",
          "height": 428
        },
        "id": "b2jT9a575VCQ",
        "outputId": "938e45a0-2e8e-4260-903b-61b17d63d1b2"
      },
      "execution_count": null,
      "outputs": [
        {
          "output_type": "display_data",
          "data": {
            "text/plain": [
              "<Figure size 1200x480 with 40 Axes>"
            ],
            "image/png": "[encoded data removed]"
          },
          "metadata": {}
        }
      ]
    },
    {
      "cell_type": "markdown",
      "source": [
        "### Setup with Keras"
      ],
      "metadata": {
        "id": "crWBFrSpKFCc"
      }
    },
    {
      "cell_type": "code",
      "source": [
        "K = tf.keras.backend\n",
        "\n",
        "class ExponentialLearningRate(tf.keras.callbacks.Callback):\n",
        "    def __init__(self, factor):\n",
        "        self.factor = factor\n",
        "        self.rates = []\n",
        "        self.losses = []\n",
        "    def on_batch_end(self, batch, logs):\n",
        "        self.rates.append(K.get_value(self.model.optimizer.learning_rate))\n",
        "        self.losses.append(logs[\"loss\"])\n",
        "        K.set_value(self.model.optimizer.learning_rate, self.model.optimizer.learning_rate * self.factor)"
      ],
      "metadata": {
        "id": "afNAjuZl5Wcp"
      },
      "execution_count": null,
      "outputs": []
    },
    {
      "cell_type": "code",
      "source": [
        "tf.keras.backend.clear_session()\n",
        "np.random.seed(42)\n",
        "tf.random.set_seed(42)"
      ],
      "metadata": {
        "id": "lZc9a3TW5YlS"
      },
      "execution_count": null,
      "outputs": []
    },
    {
      "cell_type": "markdown",
      "source": [
        "### Define neural network architecture"
      ],
      "metadata": {
        "id": "w7zm82IBKPMW"
      }
    },
    {
      "cell_type": "code",
      "source": [
        "model = tf.keras.Sequential([\n",
        "    tf.keras.layers.Flatten(input_shape=[28, 28]),\n",
        "    tf.keras.layers.Dense(300, activation=\"relu\"),\n",
        "    tf.keras.layers.Dense(100, activation=\"relu\"),\n",
        "    tf.keras.layers.Dense(10, activation=\"softmax\")\n",
        "])"
      ],
      "metadata": {
        "id": "1YSU-55I5Z5f"
      },
      "execution_count": null,
      "outputs": []
    },
    {
      "cell_type": "code",
      "source": [
        "optimizer = tf.keras.optimizers.SGD(learning_rate=1e-3)\n",
        "model.compile(loss=\"sparse_categorical_crossentropy\", optimizer=optimizer,\n",
        "              metrics=[\"accuracy\"])\n",
        "expon_lr = ExponentialLearningRate(factor=1.005)"
      ],
      "metadata": {
        "id": "ZLT2VKGl5cwd"
      },
      "execution_count": null,
      "outputs": []
    },
    {
      "cell_type": "code",
      "source": [
        "history = model.fit(X_train, y_train, epochs=1,\n",
        "                    validation_data=(X_valid, y_valid),\n",
        "                    callbacks=[expon_lr])"
      ],
      "metadata": {
        "colab": {
          "base_uri": "https://localhost:8080/"
        },
        "id": "6Ir3K2T35eTV",
        "outputId": "2b10c399-f924-4ccd-8690-fa027fe187a6"
      },
      "execution_count": null,
      "outputs": [
        {
          "output_type": "stream",
          "name": "stdout",
          "text": [
            "1719/1719 [==============================] - 13s 7ms/step - loss: 973029376000.0000 - accuracy: 0.5119 - val_loss: 2.3482 - val_accuracy: 0.0976\n"
          ]
        }
      ]
    },
    {
      "cell_type": "code",
      "source": [
        "plt.plot(expon_lr.rates, expon_lr.losses)\n",
        "plt.gca().set_xscale('log')\n",
        "plt.hlines(min(expon_lr.losses), min(expon_lr.rates), max(expon_lr.rates))\n",
        "plt.axis([min(expon_lr.rates), max(expon_lr.rates), 0, expon_lr.losses[0]])\n",
        "plt.grid()\n",
        "plt.xlabel(\"Learning rate\")\n",
        "plt.ylabel(\"Loss\")"
      ],
      "metadata": {
        "colab": {
          "base_uri": "https://localhost:8080/",
          "height": 471
        },
        "id": "EiiKufO-5f13",
        "outputId": "28c3effb-5952-4b23-8f92-0b5eecbb2a35"
      },
      "execution_count": null,
      "outputs": [
        {
          "output_type": "execute_result",
          "data": {
            "text/plain": [
              "Text(0, 0.5, 'Loss')"
            ]
          },
          "metadata": {},
          "execution_count": 28
        },
        {
          "output_type": "display_data",
          "data": {
            "text/plain": [
              "<Figure size 640x480 with 1 Axes>"
            ],
            "image/png": "[encoded data removed]"
          },
          "metadata": {}
        }
      ]
    },
    {
      "cell_type": "code",
      "source": [
        "tf.keras.backend.clear_session()\n",
        "np.random.seed(42)\n",
        "tf.random.set_seed(42)"
      ],
      "metadata": {
        "id": "QSlupCOn5hCw"
      },
      "execution_count": null,
      "outputs": []
    },
    {
      "cell_type": "code",
      "source": [
        "model = tf.keras.Sequential([\n",
        "    tf.keras.layers.Flatten(input_shape=[28, 28]),\n",
        "    tf.keras.layers.Dense(300, activation=\"relu\"),\n",
        "    tf.keras.layers.Dense(100, activation=\"relu\"),\n",
        "    tf.keras.layers.Dense(10, activation=\"softmax\")\n",
        "])"
      ],
      "metadata": {
        "id": "Ai0l9Sm35iYN"
      },
      "execution_count": null,
      "outputs": []
    },
    {
      "cell_type": "code",
      "source": [
        "optimizer = tf.keras.optimizers.SGD(learning_rate=3e-1)\n",
        "model.compile(loss=\"sparse_categorical_crossentropy\", optimizer=optimizer,\n",
        "              metrics=[\"accuracy\"])"
      ],
      "metadata": {
        "id": "IZ3s4rlM5jeS"
      },
      "execution_count": null,
      "outputs": []
    },
    {
      "cell_type": "code",
      "source": [
        "run_index = 1 # increment this at every run\n",
        "run_logdir = Path() / \"my_mnist_logs\" / \"run_{:03d}\".format(run_index)\n",
        "run_logdir"
      ],
      "metadata": {
        "colab": {
          "base_uri": "https://localhost:8080/"
        },
        "id": "Jq5OOo1V5k8n",
        "outputId": "7d7aea81-4d7d-48af-b5d6-d321c00ae057"
      },
      "execution_count": null,
      "outputs": [
        {
          "output_type": "execute_result",
          "data": {
            "text/plain": [
              "PosixPath('my_mnist_logs/run_001')"
            ]
          },
          "metadata": {},
          "execution_count": 32
        }
      ]
    },
    {
      "cell_type": "markdown",
      "source": [
        "### Train model with early stopping if model isn't improving (save time)"
      ],
      "metadata": {
        "id": "u9hrE-vAKaqO"
      }
    },
    {
      "cell_type": "code",
      "source": [
        "early_stopping_cb = tf.keras.callbacks.EarlyStopping(patience=20)\n",
        "checkpoint_cb = tf.keras.callbacks.ModelCheckpoint(\"my_mnist_model\", save_best_only=True)\n",
        "tensorboard_cb = tf.keras.callbacks.TensorBoard(run_logdir)\n",
        "\n",
        "history = model.fit(X_train, y_train, epochs=100,\n",
        "                    validation_data=(X_valid, y_valid),\n",
        "                    callbacks=[checkpoint_cb, early_stopping_cb, tensorboard_cb])"
      ],
      "metadata": {
        "colab": {
          "base_uri": "https://localhost:8080/"
        },
        "id": "dSQpI4045mLj",
        "outputId": "fadf2226-6d41-4e6a-92e5-d1e53e6c819b"
      },
      "execution_count": null,
      "outputs": [
        {
          "output_type": "stream",
          "name": "stdout",
          "text": [
            "Epoch 1/100\n",
            "1716/1719 [============================>.] - ETA: 0s - loss: 0.5814 - accuracy: 0.7858"
          ]
        },
        {
          "output_type": "stream",
          "name": "stderr",
          "text": [
            "WARNING:absl:Found untraced functions such as _update_step_xla while saving (showing 1 of 1). These functions will not be directly callable after loading.\n"
          ]
        },
        {
          "output_type": "stream",
          "name": "stdout",
          "text": [
            "\b\b\b\b\b\b\b\b\b\b\b\b\b\b\b\b\b\b\b\b\b\b\b\b\b\b\b\b\b\b\b\b\b\b\b\b\b\b\b\b\b\b\b\b\b\b\b\b\b\b\b\b\b\b\b\b\b\b\b\b\b\b\b\b\b\b\b\b\b\b\b\b\b\b\b\b\b\b\b\b\b\b\b\b\b\b\r1719/1719 [==============================] - 12s 7ms/step - loss: 0.5811 - accuracy: 0.7859 - val_loss: 0.6038 - val_accuracy: 0.7642\n",
            "Epoch 2/100\n",
            "1711/1719 [============================>.] - ETA: 0s - loss: 0.4093 - accuracy: 0.8489"
          ]
        },
        {
          "output_type": "stream",
          "name": "stderr",
          "text": [
            "WARNING:absl:Found untraced functions such as _update_step_xla while saving (showing 1 of 1). These functions will not be directly callable after loading.\n"
          ]
        },
        {
          "output_type": "stream",
          "name": "stdout",
          "text": [
            "\b\b\b\b\b\b\b\b\b\b\b\b\b\b\b\b\b\b\b\b\b\b\b\b\b\b\b\b\b\b\b\b\b\b\b\b\b\b\b\b\b\b\b\b\b\b\b\b\b\b\b\b\b\b\b\b\b\b\b\b\b\b\b\b\b\b\b\b\b\b\b\b\b\b\b\b\b\b\b\b\b\b\b\b\b\b\r1719/1719 [==============================] - 11s 6ms/step - loss: 0.4093 - accuracy: 0.8489 - val_loss: 0.3801 - val_accuracy: 0.8558\n",
            "Epoch 3/100\n",
            "1719/1719 [==============================] - 10s 6ms/step - loss: 0.3647 - accuracy: 0.8654 - val_loss: 0.7720 - val_accuracy: 0.7706\n",
            "Epoch 4/100\n",
            "1711/1719 [============================>.] - ETA: 0s - loss: 0.3397 - accuracy: 0.8733"
          ]
        },
        {
          "output_type": "stream",
          "name": "stderr",
          "text": [
            "WARNING:absl:Found untraced functions such as _update_step_xla while saving (showing 1 of 1). These functions will not be directly callable after loading.\n"
          ]
        },
        {
          "output_type": "stream",
          "name": "stdout",
          "text": [
            "\b\b\b\b\b\b\b\b\b\b\b\b\b\b\b\b\b\b\b\b\b\b\b\b\b\b\b\b\b\b\b\b\b\b\b\b\b\b\b\b\b\b\b\b\b\b\b\b\b\b\b\b\b\b\b\b\b\b\b\b\b\b\b\b\b\b\b\b\b\b\b\b\b\b\b\b\b\b\b\b\b\b\b\b\b\b\r1719/1719 [==============================] - 11s 6ms/step - loss: 0.3396 - accuracy: 0.8732 - val_loss: 0.3338 - val_accuracy: 0.8748\n",
            "Epoch 5/100\n",
            "1719/1719 [==============================] - 11s 6ms/step - loss: 0.3250 - accuracy: 0.8788 - val_loss: 0.3344 - val_accuracy: 0.8792\n",
            "Epoch 6/100\n",
            "1719/1719 [==============================] - 11s 6ms/step - loss: 0.3075 - accuracy: 0.8847 - val_loss: 0.3486 - val_accuracy: 0.8778\n",
            "Epoch 7/100\n",
            "1719/1719 [==============================] - 10s 6ms/step - loss: 0.2978 - accuracy: 0.8889 - val_loss: 0.3415 - val_accuracy: 0.8778\n",
            "Epoch 8/100\n",
            "1719/1719 [==============================] - 10s 6ms/step - loss: 0.2872 - accuracy: 0.8919 - val_loss: 0.4137 - val_accuracy: 0.8588\n",
            "Epoch 9/100\n",
            "1719/1719 [==============================] - 10s 6ms/step - loss: 0.2791 - accuracy: 0.8939 - val_loss: 0.3449 - val_accuracy: 0.8820\n",
            "Epoch 10/100\n",
            "1719/1719 [==============================] - 11s 6ms/step - loss: 0.2714 - accuracy: 0.8965 - val_loss: 0.3350 - val_accuracy: 0.8876\n",
            "Epoch 11/100\n",
            "1719/1719 [==============================] - 11s 6ms/step - loss: 0.2628 - accuracy: 0.9001 - val_loss: 0.3362 - val_accuracy: 0.8862\n",
            "Epoch 12/100\n",
            "1716/1719 [============================>.] - ETA: 0s - loss: 0.2555 - accuracy: 0.9020"
          ]
        },
        {
          "output_type": "stream",
          "name": "stderr",
          "text": [
            "WARNING:absl:Found untraced functions such as _update_step_xla while saving (showing 1 of 1). These functions will not be directly callable after loading.\n"
          ]
        },
        {
          "output_type": "stream",
          "name": "stdout",
          "text": [
            "\b\b\b\b\b\b\b\b\b\b\b\b\b\b\b\b\b\b\b\b\b\b\b\b\b\b\b\b\b\b\b\b\b\b\b\b\b\b\b\b\b\b\b\b\b\b\b\b\b\b\b\b\b\b\b\b\b\b\b\b\b\b\b\b\b\b\b\b\b\b\b\b\b\b\b\b\b\b\b\b\b\b\b\b\b\b\r1719/1719 [==============================] - 11s 6ms/step - loss: 0.2554 - accuracy: 0.9020 - val_loss: 0.3209 - val_accuracy: 0.8836\n",
            "Epoch 13/100\n",
            "1719/1719 [==============================] - 9s 5ms/step - loss: 0.2515 - accuracy: 0.9053 - val_loss: 0.3322 - val_accuracy: 0.8860\n",
            "Epoch 14/100\n",
            "1719/1719 [==============================] - 11s 6ms/step - loss: 0.2461 - accuracy: 0.9075 - val_loss: 0.3400 - val_accuracy: 0.8828\n",
            "Epoch 15/100\n",
            "1719/1719 [==============================] - 11s 6ms/step - loss: 0.2393 - accuracy: 0.9094 - val_loss: 0.3393 - val_accuracy: 0.8780\n",
            "Epoch 16/100\n",
            "1719/1719 [==============================] - 10s 6ms/step - loss: 0.2328 - accuracy: 0.9113 - val_loss: 0.3259 - val_accuracy: 0.8914\n",
            "Epoch 17/100\n",
            "1719/1719 [==============================] - 10s 6ms/step - loss: 0.2354 - accuracy: 0.9110 - val_loss: 0.3643 - val_accuracy: 0.8754\n",
            "Epoch 18/100\n",
            "1719/1719 [==============================] - 10s 6ms/step - loss: 0.2270 - accuracy: 0.9131 - val_loss: 0.3762 - val_accuracy: 0.8814\n",
            "Epoch 19/100\n",
            "1714/1719 [============================>.] - ETA: 0s - loss: 0.2207 - accuracy: 0.9155"
          ]
        },
        {
          "output_type": "stream",
          "name": "stderr",
          "text": [
            "WARNING:absl:Found untraced functions such as _update_step_xla while saving (showing 1 of 1). These functions will not be directly callable after loading.\n"
          ]
        },
        {
          "output_type": "stream",
          "name": "stdout",
          "text": [
            "\b\b\b\b\b\b\b\b\b\b\b\b\b\b\b\b\b\b\b\b\b\b\b\b\b\b\b\b\b\b\b\b\b\b\b\b\b\b\b\b\b\b\b\b\b\b\b\b\b\b\b\b\b\b\b\b\b\b\b\b\b\b\b\b\b\b\b\b\b\b\b\b\b\b\b\b\b\b\b\b\b\b\b\b\b\b\r1719/1719 [==============================] - 11s 6ms/step - loss: 0.2211 - accuracy: 0.9155 - val_loss: 0.3109 - val_accuracy: 0.8970\n",
            "Epoch 20/100\n",
            "1719/1719 [==============================] - 10s 6ms/step - loss: 0.2153 - accuracy: 0.9181 - val_loss: 0.3911 - val_accuracy: 0.8764\n",
            "Epoch 21/100\n",
            "1719/1719 [==============================] - 11s 6ms/step - loss: 0.2078 - accuracy: 0.9206 - val_loss: 0.3511 - val_accuracy: 0.8924\n",
            "Epoch 22/100\n",
            "1719/1719 [==============================] - 11s 7ms/step - loss: 0.2064 - accuracy: 0.9205 - val_loss: 0.3723 - val_accuracy: 0.8870\n",
            "Epoch 23/100\n",
            "1719/1719 [==============================] - 11s 6ms/step - loss: 0.2037 - accuracy: 0.9224 - val_loss: 0.3598 - val_accuracy: 0.8906\n",
            "Epoch 24/100\n",
            "1719/1719 [==============================] - 11s 6ms/step - loss: 0.2006 - accuracy: 0.9226 - val_loss: 0.3751 - val_accuracy: 0.8890\n",
            "Epoch 25/100\n",
            "1719/1719 [==============================] - 11s 7ms/step - loss: 0.1972 - accuracy: 0.9247 - val_loss: 0.4123 - val_accuracy: 0.8840\n",
            "Epoch 26/100\n",
            "1719/1719 [==============================] - 11s 6ms/step - loss: 0.1953 - accuracy: 0.9250 - val_loss: 0.4048 - val_accuracy: 0.8842\n",
            "Epoch 27/100\n",
            "1719/1719 [==============================] - 10s 6ms/step - loss: 0.1977 - accuracy: 0.9248 - val_loss: 0.3594 - val_accuracy: 0.8908\n",
            "Epoch 28/100\n",
            "1719/1719 [==============================] - 9s 5ms/step - loss: 0.1859 - accuracy: 0.9282 - val_loss: 0.3949 - val_accuracy: 0.8906\n",
            "Epoch 29/100\n",
            "1719/1719 [==============================] - 9s 5ms/step - loss: 0.1858 - accuracy: 0.9286 - val_loss: 0.4237 - val_accuracy: 0.8782\n",
            "Epoch 30/100\n",
            "1719/1719 [==============================] - 10s 6ms/step - loss: 0.1850 - accuracy: 0.9288 - val_loss: 0.3868 - val_accuracy: 0.8930\n",
            "Epoch 31/100\n",
            "1719/1719 [==============================] - 10s 6ms/step - loss: 0.1801 - accuracy: 0.9316 - val_loss: 0.4089 - val_accuracy: 0.8860\n",
            "Epoch 32/100\n",
            "1719/1719 [==============================] - 10s 6ms/step - loss: 0.1773 - accuracy: 0.9313 - val_loss: 0.3850 - val_accuracy: 0.8862\n",
            "Epoch 33/100\n",
            "1719/1719 [==============================] - 9s 5ms/step - loss: 0.1777 - accuracy: 0.9323 - val_loss: 0.4222 - val_accuracy: 0.8862\n",
            "Epoch 34/100\n",
            "1719/1719 [==============================] - 10s 6ms/step - loss: 0.1736 - accuracy: 0.9340 - val_loss: 0.4444 - val_accuracy: 0.8834\n",
            "Epoch 35/100\n",
            "1719/1719 [==============================] - 11s 6ms/step - loss: 0.1717 - accuracy: 0.9352 - val_loss: 0.4123 - val_accuracy: 0.8914\n",
            "Epoch 36/100\n",
            "1719/1719 [==============================] - 10s 6ms/step - loss: 0.1751 - accuracy: 0.9338 - val_loss: 0.4223 - val_accuracy: 0.8954\n",
            "Epoch 37/100\n",
            "1719/1719 [==============================] - 9s 5ms/step - loss: 0.1667 - accuracy: 0.9360 - val_loss: 0.4437 - val_accuracy: 0.8820\n",
            "Epoch 38/100\n",
            "1719/1719 [==============================] - 10s 6ms/step - loss: 0.1673 - accuracy: 0.9361 - val_loss: 0.4474 - val_accuracy: 0.8878\n",
            "Epoch 39/100\n",
            "1719/1719 [==============================] - 10s 6ms/step - loss: 0.1741 - accuracy: 0.9342 - val_loss: 0.4031 - val_accuracy: 0.8930\n"
          ]
        }
      ]
    },
    {
      "cell_type": "markdown",
      "source": [
        "### Go back to best model and evaluate"
      ],
      "metadata": {
        "id": "3u0BfU_3KgEu"
      }
    },
    {
      "cell_type": "code",
      "source": [
        "model = tf.keras.models.load_model(\"my_mnist_model\") # rollback to best model\n",
        "model.evaluate(X_test, y_test)"
      ],
      "metadata": {
        "id": "QpLF6DO35n81",
        "colab": {
          "base_uri": "https://localhost:8080/"
        },
        "outputId": "023ca943-4193-47e5-c1b0-8ddfc6fc752f"
      },
      "execution_count": null,
      "outputs": [
        {
          "output_type": "stream",
          "name": "stdout",
          "text": [
            "313/313 [==============================] - 1s 3ms/step - loss: 0.3376 - accuracy: 0.8874\n"
          ]
        },
        {
          "output_type": "execute_result",
          "data": {
            "text/plain": [
              "[0.33756616711616516, 0.8873999714851379]"
            ]
          },
          "metadata": {},
          "execution_count": 34
        }
      ]
    },
    {
      "cell_type": "markdown",
      "source": [
        "## Accuracy: 88.74%"
      ],
      "metadata": {
        "id": "ZV4_I-VHJ1Qa"
      }
    }
  ]
}